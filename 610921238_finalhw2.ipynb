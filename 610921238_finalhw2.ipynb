{
 "cells": [
  {
   "cell_type": "code",
   "execution_count": null,
   "metadata": {},
   "outputs": [],
   "source": [
    "from PIL import Image\n",
    "import cv2\n",
    "import numpy as np\n",
    "import os\n",
    "from sklearn.decomposition import PCA\n",
    "#人臉辨識\n",
    "#def read_img():\n",
    "\n",
    "\n",
    "\n",
    "path = \"D:\\program\\picture learn\" \n",
    "files= os.listdir(path) #得到資料夾下的所有檔案的名稱\n",
    "s = []\n",
    "for file in files: #翻遍資料夾\n",
    "    if not os.path.isdir(file): #判斷是否是資料夾,不是資料夾才打開\n",
    "f = open(path+\"/\"+file); #開啟檔案\n",
    "iter_f = iter(f); #建立迭代器\n",
    "str = \"\"\n",
    "def read_img():\n",
    "    im = Image.open(\"D:\\program\\picture learn\")    # 讀取p5檔案\n",
    "    im.show()    # 展示圖片\n",
    "    print(im.size)\n",
    "if __name__ == \"__main__\":\n",
    "    read_img()     # 调用read_img()\n",
    "s.append(str) #每個檔案的文字存到list中\n",
    "print(s) #列印結果\n",
    "#讀取檔案後向量化\n",
    "print(xl.split())\n",
    "g,b,k = xl.split()\n",
    "np.array(g).reshape(1,10304)[0]\n",
    "np.array(b).reshape(1,10304)[0]\n",
    "np.array(k).reshape(1,10304)[0]\n",
    "np.concatenate((np.array(g).reshape(1,10304)[0],np.array(b).reshape(1,10304)[0],np.array(k).reshape(1,10304)[0]))\n",
    "#pca化\n",
    "pca = PCA(n_components=20) #不太確定\n",
    "pca.fit(X)\n",
    "X_new = pca.transform(X)\n",
    "fig = plt.figure()\n",
    "plt.scatter(X_new[:,0],X_new[:,1],marker='o')\n",
    "#進行高斯分類\n",
    "modelg=GaussianNB()\n",
    "modelg.fit(X_train,y_train)\n",
    "modelg.predict(X_test)\n",
    "modelm.predict_proba(X_test)\n",
    "modelm.score(X_test,y_test)\n",
    "\n",
    "print(modelg)\n",
    "cv2.waitKey(0)\n",
    "cv2.destroyAllWindows()"
   ]
  }
 ],
 "metadata": {
  "kernelspec": {
   "display_name": "Python 3",
   "language": "python",
   "name": "python3"
  },
  "language_info": {
   "codemirror_mode": {
    "name": "ipython",
    "version": 3
   },
   "file_extension": ".py",
   "mimetype": "text/x-python",
   "name": "python",
   "nbconvert_exporter": "python",
   "pygments_lexer": "ipython3",
   "version": "3.8.3"
  }
 },
 "nbformat": 4,
 "nbformat_minor": 4
}
